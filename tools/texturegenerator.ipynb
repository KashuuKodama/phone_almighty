{
 "cells": [
  {
   "cell_type": "code",
   "execution_count": 5,
   "metadata": {},
   "outputs": [],
   "source": [
    "from PIL import Image\n",
    "import numpy as np"
   ]
  },
  {
   "cell_type": "code",
   "execution_count": 51,
   "metadata": {},
   "outputs": [],
   "source": [
    "img = Image.open('source/s.jpg')\n",
    "im = np.array(img)"
   ]
  },
  {
   "cell_type": "code",
   "execution_count": 53,
   "metadata": {},
   "outputs": [],
   "source": [
    "res=np.zeros((len(im), len(im[0])))\n",
    "for y in range(0,len(im)):\n",
    "    for x in range(0,len(im[0])):\n",
    "        r=np.floor(im[y,x][0]*6/256)\n",
    "        g=np.floor(im[y,x][1]*6/256)\n",
    "        b=np.floor(im[y,x][2]*6/256)\n",
    "        i=36*r+6*g+b+16\n",
    "        res[y,x]=int(i)\n",
    "with open(\"res.txt\", 'w') as f:\n",
    "    print(\"x=\"+str(len(im[0]))+\" y=\"+str(len(im)), file=f)\n",
    "    for y in range(0,len(im)):\n",
    "        for x in range(0,len(im[0])):\n",
    "            print(str(int(res[y,x])), file=f,end=\",\")\n",
    "        print(\"\", file=f,end=\"\\n\")\n"
   ]
  }
 ],
 "metadata": {
  "kernelspec": {
   "display_name": "Python 3",
   "language": "python",
   "name": "python3"
  },
  "language_info": {
   "codemirror_mode": {
    "name": "ipython",
    "version": 3
   },
   "file_extension": ".py",
   "mimetype": "text/x-python",
   "name": "python",
   "nbconvert_exporter": "python",
   "pygments_lexer": "ipython3",
   "version": "3.11.0"
  }
 },
 "nbformat": 4,
 "nbformat_minor": 2
}
